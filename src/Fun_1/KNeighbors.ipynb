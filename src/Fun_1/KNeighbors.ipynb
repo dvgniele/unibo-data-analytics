{
 "cells": [
  {
   "cell_type": "code",
   "execution_count": 16,
   "metadata": {},
   "outputs": [],
   "source": [
    "import random\n",
    "import torch\n",
    "import pandas as pd\n",
    "import numpy as np\n",
    "from scipy.sparse import csr_matrix\n",
    "from sklearn.model_selection import train_test_split,GridSearchCV\n",
    "from sklearn.neighbors import KNeighborsRegressor\n",
    "from sklearn.metrics import mean_squared_error,r2_score, mean_absolute_error\n",
    "from sklearn import preprocessing\n",
    "from sklearn.decomposition import PCA\n",
    "import warnings\n",
    "warnings.filterwarnings(\"ignore\", category=DeprecationWarning) "
   ]
  },
  {
   "cell_type": "code",
   "execution_count": 17,
   "metadata": {},
   "outputs": [],
   "source": [
    "def fix_random(seed: int) -> None:\n",
    "    \"\"\"Fix all the possible sources of randomness.\n",
    "\n",
    "    Args:\n",
    "        seed: the seed to use.\n",
    "    \"\"\"\n",
    "    np.random.seed(seed)\n",
    "    random.seed(seed)\n",
    "    torch.manual_seed(seed)\n",
    "    torch.cuda.manual_seed(seed)\n",
    "\n",
    "    torch.backends.cudnn.benchmark = False\n",
    "    torch.backends.cudnn.deterministic = True  # slower"
   ]
  },
  {
   "cell_type": "code",
   "execution_count": 18,
   "metadata": {},
   "outputs": [
    {
     "name": "stdout",
     "output_type": "stream",
     "text": [
      "Device: cpu\n"
     ]
    }
   ],
   "source": [
    "SEED = 1038893\n",
    "\n",
    "fix_random(SEED)\n",
    "device = torch.device(\"cuda\" if torch.cuda.is_available() else \"cpu\")\n",
    "print(\"Device: {}\".format(device))\n",
    "\n",
    "root = \"../../data/ml-25m\""
   ]
  },
  {
   "cell_type": "markdown",
   "metadata": {},
   "source": [
    "## Data Acquisition"
   ]
  },
  {
   "cell_type": "code",
   "execution_count": 19,
   "metadata": {},
   "outputs": [],
   "source": [
    "def get_data_from_csv(file: str, nrows=None):\n",
    "    if nrows:\n",
    "        df = pd.read_csv(f\"{root}/{file}\", nrows=nrows)\n",
    "    else:\n",
    "        df = pd.read_csv(f\"{root}/{file}\")\n",
    "    print(f\"Loaded ml-25m data: {root}/{file}\")\n",
    "\n",
    "    return df\n",
    "\n",
    "def get_movies_from_csv(nrows=None):\n",
    "    path = \"movies.csv\"\n",
    "\n",
    "    data = get_data_from_csv(path, nrows)\n",
    "    # data = get_data_from_csv(path)\n",
    "    print(data.head())\n",
    "    return data\n",
    "\n",
    "def get_ratings_from_csv(nrows=None):\n",
    "    path = \"ratings.csv\"\n",
    "\n",
    "    data = get_data_from_csv(path, nrows)\n",
    "    # data = get_data_from_csv(path)\n",
    "\n",
    "    data.drop(\"timestamp\", axis=1, inplace=True)\n",
    "    # todo: drop user id\n",
    "    #data.drop(\"userId\", axis=1, inplace=True)\n",
    "\n",
    "    return data\n",
    "\n",
    "def get_tag_relevances_from_csv(nrows=None):\n",
    "    path = \"genome-scores.csv\"\n",
    "\n",
    "    return get_data_from_csv(path, nrows)"
   ]
  },
  {
   "cell_type": "code",
   "execution_count": 20,
   "metadata": {},
   "outputs": [],
   "source": [
    "genome_scores_path = \"genome-scores.csv\"\n",
    "ratings_path = \"ratings.csv\""
   ]
  },
  {
   "cell_type": "code",
   "execution_count": 21,
   "metadata": {},
   "outputs": [
    {
     "name": "stdout",
     "output_type": "stream",
     "text": [
      "Loaded ml-25m data: ../../data/ml-25m/ratings.csv\n",
      "Loaded ml-25m data: ../../data/ml-25m/movies.csv\n",
      "   movieId                               title  \\\n",
      "0        1                    Toy Story (1995)   \n",
      "1        2                      Jumanji (1995)   \n",
      "2        3             Grumpier Old Men (1995)   \n",
      "3        4            Waiting to Exhale (1995)   \n",
      "4        5  Father of the Bride Part II (1995)   \n",
      "\n",
      "                                        genres  \n",
      "0  Adventure|Animation|Children|Comedy|Fantasy  \n",
      "1                   Adventure|Children|Fantasy  \n",
      "2                               Comedy|Romance  \n",
      "3                         Comedy|Drama|Romance  \n",
      "4                                       Comedy  \n",
      "          userId  movieId  rating\n",
      "0              1      296     5.0\n",
      "1              1      306     3.5\n",
      "2              1      307     5.0\n",
      "3              1      665     5.0\n",
      "4              1      899     3.5\n",
      "...          ...      ...     ...\n",
      "25000090  162541    50872     4.5\n",
      "25000091  162541    55768     2.5\n",
      "25000092  162541    56176     2.0\n",
      "25000093  162541    58559     4.0\n",
      "25000094  162541    63876     5.0\n",
      "\n",
      "[25000095 rows x 3 columns]\n"
     ]
    }
   ],
   "source": [
    "ratings = get_ratings_from_csv()\n",
    "movies = get_movies_from_csv()\n",
    "print(ratings)"
   ]
  },
  {
   "cell_type": "code",
   "execution_count": 22,
   "metadata": {},
   "outputs": [
    {
     "name": "stdout",
     "output_type": "stream",
     "text": [
      "Loaded ml-25m data: ../../data/ml-25m/genome-scores.csv\n",
      "          movieId  tagId  relevance\n",
      "0               1      1    0.02875\n",
      "1               1      2    0.02375\n",
      "2               1      3    0.06250\n",
      "3               1      4    0.07575\n",
      "4               1      5    0.14075\n",
      "...           ...    ...        ...\n",
      "15584443   206499   1124    0.11000\n",
      "15584444   206499   1125    0.04850\n",
      "15584445   206499   1126    0.01325\n",
      "15584446   206499   1127    0.14025\n",
      "15584447   206499   1128    0.03350\n",
      "\n",
      "[15584448 rows x 3 columns]\n"
     ]
    }
   ],
   "source": [
    "genome_scores = get_tag_relevances_from_csv()\n",
    "print(genome_scores)"
   ]
  },
  {
   "cell_type": "code",
   "execution_count": 23,
   "metadata": {},
   "outputs": [],
   "source": [
    "# films = get_data_from_csv(f\"{root}/{ratings}\")[]\n"
   ]
  },
  {
   "cell_type": "markdown",
   "metadata": {},
   "source": [
    "# DATA VISUALIZATION\n"
   ]
  },
  {
   "cell_type": "code",
   "execution_count": 24,
   "metadata": {},
   "outputs": [],
   "source": [
    "            # # Fill in missing values with zeros\n",
    "            # X.fillna(0, inplace=True)\n"
   ]
  },
  {
   "cell_type": "markdown",
   "metadata": {},
   "source": [
    "# FARE TEST CON AVG, STD_DEV"
   ]
  },
  {
   "cell_type": "code",
   "execution_count": 25,
   "metadata": {},
   "outputs": [],
   "source": [
    "def addColumnOperation(ratings,X):\n",
    "     # Compute the mean rating for each user\n",
    "     count_rating = ratings.groupby('movieId', as_index=False)['rating'].count()\n",
    "     std= ratings.groupby('movieId', as_index=False)['rating'].std()\n",
    "     std.fillna(0, inplace=True)\n",
    "     min_ratings= ratings.groupby('movieId', as_index=False)['rating'].min()\n",
    "     max_ratings= ratings.groupby('movieId', as_index=False)['rating'].max()\n",
    "     median= ratings.groupby('movieId', as_index=False)['rating'].median()\n",
    "     operation = pd.DataFrame({'movieId':count_rating['movieId'],'count_rating': count_rating['rating'], 'std': std['rating'], 'min': min_ratings['rating'], 'max': max_ratings['rating'], 'median': median['rating']}) \n",
    "     X = pd.merge(X, operation, on='movieId')\n",
    "     return X\n",
    "    \n",
    "def preprocessing1(relevance, ratings):\n",
    "     # Reduce genome-score size\n",
    "     # Pivot the relevance DataFrame to create a matrix of tag relevance scores for each movie\n",
    "     relevance_matrix = relevance.pivot_table(index='movieId', columns='tagId', values='relevance', fill_value=0)\n",
    "     counting = relevance.groupby('movieId', as_index=False)['relevance'].count()\n",
    "     print(counting)\n",
    "     # Merge the ratings and relevance data\n",
    "     mean_ratings = ratings.groupby('movieId', as_index=False)['rating'].mean()\n",
    "     X = mean_ratings.merge(relevance_matrix, on='movieId')\n",
    "     #X = addColumnOperation(ratings,X)\n",
    "     X.columns = X.columns.astype(str)\n",
    "     ratings = None  \n",
    "     # mescolare le righe del DataFrame\n",
    "     #X = X.sample(frac=1).reset_index(drop=True)\n",
    "     \n",
    "     y = X['rating']\n",
    "     X.drop(\"movieId\", axis=1, inplace=True)\n",
    "     X = X.drop('rating', axis=1)\n",
    "     return X,y\n",
    "\n",
    "def preprocessing2(movies,relevance, ratings):\n",
    "     # Merge the ratings and movies data\n",
    "     #X = ratings.merge(movies, on='movieId')\n",
    "     movies_genres = movies['genres'].str.split( '|')\n",
    "     m = pd.get_dummies(movies_genres.apply(pd.Series).stack()).sum(level=0)\n",
    "     movies_genres = pd.concat([movies['movieId'], m], axis=1)\n",
    "\n",
    "     relevance_matrix = relevance.pivot_table(index='movieId', columns='tagId', values='relevance', fill_value=0)\n",
    "     mean_ratings = ratings.groupby('movieId', as_index=False)['rating'].mean()\n",
    "     \n",
    "     X = mean_ratings.merge(movies_genres, on='movieId')\n",
    "     X = X.merge(relevance_matrix, on='movieId')\n",
    "     X.columns = X.columns.astype(str)\n",
    "     ratings = None  \n",
    "     # mescolare le righe del DataFrame\n",
    "     #X = X.sample(frac=1).reset_index(drop=True)\n",
    "     \n",
    "     y = X['rating']\n",
    "     X.drop(\"movieId\", axis=1, inplace=True)\n",
    "     X = X.drop('rating', axis=1)\n",
    "     \n",
    "     # Apply PCA if n_components is specified\n",
    "     pca = PCA()\n",
    "     X = pca.fit_transform(X)\n",
    "     return X,y"
   ]
  },
  {
   "cell_type": "code",
   "execution_count": 26,
   "metadata": {},
   "outputs": [],
   "source": [
    "class KNeighbors:\n",
    "    def __init__(self, ratings, relevance,movies, seed=SEED):\n",
    "        import matplotlib.pyplot as plt\n",
    "\n",
    "        relevance_matrix = relevance.pivot_table(index='movieId', columns='tagId', values='relevance', fill_value=0)\n",
    "        \n",
    "        # Merge the ratings and relevance data\n",
    "        mean_ratings = ratings.groupby('movieId', as_index=False)['rating'].mean()\n",
    "        X = mean_ratings.merge(relevance_matrix, on='movieId')\n",
    "        \n",
    "        X.columns = X.columns.astype(str)\n",
    "        \n",
    "        ratings = None  \n",
    "\n",
    "        # mescolare le righe del DataFrame\n",
    "        X = X.sample(frac=1,random_state=seed).reset_index(drop=True)\n",
    "        \n",
    "        X.drop(\"movieId\", axis=1, inplace=True)\n",
    "        y = X['rating']\n",
    "        X = X.drop('rating', axis=1)\n",
    "        \n",
    "        self.X_train, self.X_test, self.y_train, self.y_test = train_test_split(X, y, test_size=0.2, random_state=seed)\n",
    "        #print(self.X_train.shape, self.X_test.shape, self.y_train.shape, self.y_test.shape)\n",
    "        pca = PCA(n_components=0.95)\n",
    "        pca.fit(self.X_train)\n",
    "        self.X_train_t = pca.transform(self.X_train)\n",
    "        self.X_test_t = pca.transform(self.X_test)\n",
    "        print(self.X_train)\n",
    "        print(self.X_train_t)\n",
    "        \n",
    "        self.model = KNeighborsRegressor()\n",
    "        self.params = {\n",
    "                'n_neighbors': [3, 5, 7, 13, 17, 25],\n",
    "                'weights': ['uniform', 'distance'],\n",
    "                'algorithm': ['auto', 'ball_tree', 'kd_tree', 'brute'],\n",
    "                'leaf_size': [10, 30, 50, 80, 100],\n",
    "            }\n",
    "            \n",
    "    def train(self):\n",
    "        # Fit the model to the training data\n",
    "        self.model.fit(self.X_train_t, self.y_train)\n",
    "        \n",
    "    def tuning(self):\n",
    "        self.tuning_hyperparameter(self.X_train_t, self.y_train)\n",
    "        \n",
    "     # Hyperparameter tuning\n",
    "    def tuning_hyperparameter(self,X,y):\n",
    "        grid_search = GridSearchCV(self.model, param_grid=self.params, cv=3, n_jobs=4)\n",
    "        grid_search.fit(X, y)\n",
    "        self.model = grid_search.best_estimator_\n",
    "        print(f\"Best parameters: {grid_search.best_params_}\")\n",
    "        print(f\"Best score: {grid_search.best_score_:.4f}\")\n",
    "        \n",
    "\n",
    "    def test(self):\n",
    "        # Predict ratings for the test data\n",
    "        y_pred = self.model.predict(self.X_test_t)\n",
    "\n",
    "        # Compute the mean squared error\n",
    "        mse = mean_squared_error(self.y_test, y_pred)\n",
    "        rmse = mean_squared_error(self.y_test, y_pred, squared=False)\n",
    "        r2 = r2_score(self.y_test, y_pred)\n",
    "        mae = mean_absolute_error(self.y_test, y_pred)\n",
    "\n",
    "        print(f\"MSE: {mse} RMSE: {rmse} R2: {r2} MAE: {mae}\")\n",
    "        score = self.model.score(self.X_test_t, self.y_test)\n",
    "        print(f\"Score:{score}\")\n",
    "        \n",
    "\n",
    "        \n"
   ]
  },
  {
   "cell_type": "code",
   "execution_count": 27,
   "metadata": {},
   "outputs": [
    {
     "name": "stdout",
     "output_type": "stream",
     "text": [
      "             1        2        3        4        5        6        7        8  \\\n",
      "10042  0.04625  0.05100  0.03525  0.02900  0.07000  0.03000  0.04950  0.10100   \n",
      "7698   0.02975  0.03050  0.10500  0.08125  0.16050  0.09325  0.07875  0.32625   \n",
      "11955  0.04225  0.04225  0.01900  0.03775  0.04475  0.11400  0.03075  0.32175   \n",
      "10365  0.03100  0.04075  0.03875  0.04225  0.12650  0.03525  0.04100  0.16350   \n",
      "1888   0.02650  0.02550  0.02500  0.03450  0.03125  0.01950  0.02775  0.07425   \n",
      "...        ...      ...      ...      ...      ...      ...      ...      ...   \n",
      "7554   0.02300  0.02800  0.06825  0.10700  0.16225  0.13175  0.09600  0.34900   \n",
      "8752   0.04575  0.04100  0.10375  0.07700  0.11400  0.04375  0.04175  0.18525   \n",
      "13034  0.03075  0.02950  0.02650  0.06500  0.08475  0.07775  0.04950  0.22050   \n",
      "6798   0.01800  0.02175  0.05325  0.12975  0.06450  0.06900  0.04600  0.14050   \n",
      "9066   0.02775  0.02675  0.06825  0.05575  0.08350  0.05950  0.06375  0.34450   \n",
      "\n",
      "             9       10  ...     1119     1120     1121     1122     1123  \\\n",
      "10042  0.04350  0.02750  ...  0.06525  0.01775  0.01625  0.03600  0.18375   \n",
      "7698   0.09150  0.10350  ...  0.08175  0.03300  0.03125  0.05900  0.20100   \n",
      "11955  0.07150  0.01425  ...  0.05100  0.01325  0.01200  0.01650  0.14825   \n",
      "10365  0.11550  0.04200  ...  0.13300  0.02675  0.02025  0.09400  0.39275   \n",
      "1888   0.02900  0.02825  ...  0.04550  0.01825  0.01175  0.01875  0.29525   \n",
      "...        ...      ...  ...      ...      ...      ...      ...      ...   \n",
      "7554   0.14350  0.15825  ...  0.28450  0.63550  0.12000  0.03100  0.12125   \n",
      "8752   0.06625  0.04525  ...  0.09725  0.03375  0.01725  0.03475  0.14575   \n",
      "13034  0.03550  0.05400  ...  0.15000  0.01375  0.01500  0.05950  0.35425   \n",
      "6798   0.02525  0.20625  ...  0.08700  0.01400  0.00975  0.02600  0.11825   \n",
      "9066   0.08700  0.03525  ...  0.05250  0.01475  0.01800  0.08175  0.31050   \n",
      "\n",
      "          1124     1125     1126     1127     1128  \n",
      "10042  0.04350  0.03275  0.00850  0.15525  0.01900  \n",
      "7698   0.18475  0.04825  0.02725  0.13800  0.04100  \n",
      "11955  0.01325  0.03500  0.00575  0.40375  0.04950  \n",
      "10365  0.17025  0.02250  0.01050  0.08275  0.01575  \n",
      "1888   0.07625  0.02200  0.01075  0.12525  0.01850  \n",
      "...        ...      ...      ...      ...      ...  \n",
      "7554   0.03575  0.04375  0.67125  0.11100  0.02500  \n",
      "8752   0.11025  0.02775  0.01800  0.13275  0.03200  \n",
      "13034  0.15925  0.02750  0.01575  0.08650  0.02000  \n",
      "6798   0.02225  0.02700  0.00850  0.07625  0.01825  \n",
      "9066   0.04050  0.04375  0.01200  0.32975  0.05600  \n",
      "\n",
      "[11052 rows x 1128 columns]\n",
      "[[-1.26514347 -0.19340078 -0.89574072 ... -0.01435576 -0.01106131\n",
      "   0.01481906]\n",
      " [ 0.80664782  1.74501775  0.64943896 ... -0.01167413  0.00603007\n",
      "   0.00474297]\n",
      " [-1.06339846  0.23462752 -2.29618443 ... -0.06106665  0.03531608\n",
      "  -0.0299436 ]\n",
      " ...\n",
      " [ 1.70605445  1.56492225  0.39232424 ... -0.10143841 -0.03152262\n",
      "   0.02483274]\n",
      " [-0.40831813 -1.46613875 -0.18738257 ...  0.04121178  0.03634539\n",
      "   0.0314233 ]\n",
      " [ 0.27509092  0.68112176 -2.32700892 ... -0.0434108  -0.01764467\n",
      "  -0.01571854]]\n"
     ]
    }
   ],
   "source": [
    "kn = KNeighbors(ratings,genome_scores,movies, SEED)"
   ]
  },
  {
   "cell_type": "code",
   "execution_count": 28,
   "metadata": {},
   "outputs": [
    {
     "name": "stdout",
     "output_type": "stream",
     "text": [
      "Best parameters: {'algorithm': 'auto', 'leaf_size': 10, 'n_neighbors': 13, 'weights': 'distance'}\n",
      "Best score: 0.8107\n"
     ]
    }
   ],
   "source": [
    "kn.tuning()"
   ]
  },
  {
   "cell_type": "code",
   "execution_count": 29,
   "metadata": {},
   "outputs": [],
   "source": [
    "kn.train()"
   ]
  },
  {
   "cell_type": "code",
   "execution_count": 30,
   "metadata": {},
   "outputs": [
    {
     "name": "stdout",
     "output_type": "stream",
     "text": [
      "MSE: 0.039228170045076775 RMSE: 0.19806102606286977 R2: 0.836386418354838 MAE: 0.15566020188713492\n",
      "Score:0.836386418354838\n"
     ]
    }
   ],
   "source": [
    "kn.test()"
   ]
  }
 ],
 "metadata": {
  "kernelspec": {
   "display_name": "Python 3",
   "language": "python",
   "name": "python3"
  },
  "language_info": {
   "codemirror_mode": {
    "name": "ipython",
    "version": 3
   },
   "file_extension": ".py",
   "mimetype": "text/x-python",
   "name": "python",
   "nbconvert_exporter": "python",
   "pygments_lexer": "ipython3",
   "version": "3.8.10"
  },
  "orig_nbformat": 4,
  "vscode": {
   "interpreter": {
    "hash": "20a32af23fa2dfa3c5d159e60107838eb3f09fc5f820c64a56f9f0f73009b4f7"
   }
  }
 },
 "nbformat": 4,
 "nbformat_minor": 2
}
