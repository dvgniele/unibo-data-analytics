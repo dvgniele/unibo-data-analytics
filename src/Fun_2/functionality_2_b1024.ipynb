{
 "cells": [
  {
   "cell_type": "code",
   "execution_count": 4,
   "metadata": {},
   "outputs": [
    {
     "name": "stderr",
     "output_type": "stream",
     "text": [
      "c:\\Users\\Daniele\\AppData\\Local\\Programs\\Python\\Python310\\lib\\site-packages\\tqdm\\auto.py:22: TqdmWarning: IProgress not found. Please update jupyter and ipywidgets. See https://ipywidgets.readthedocs.io/en/stable/user_install.html\n",
      "  from .autonotebook import tqdm as notebook_tqdm\n"
     ]
    }
   ],
   "source": [
    "import random\n",
    "import torch\n",
    "import pandas as pd\n",
    "import numpy as np\n",
    "from scipy.sparse import csr_matrix\n",
    "import time\n",
    "\n",
    "import torch.nn as nn\n",
    "import torch.optim as optim\n",
    "from sklearn.model_selection import train_test_split\n",
    "from sklearn.model_selection import GridSearchCV\n",
    "from torch.utils.data import DataLoader, TensorDataset\n",
    "\n",
    "from sklearn.metrics import mean_squared_error, mean_absolute_error, r2_score, mean_squared_error\n",
    "from sklearn.model_selection import train_test_split\n",
    "from sklearn.decomposition import PCA\n",
    "\n",
    "import seaborn as sns\n",
    "import matplotlib.pyplot as plt\n",
    "\n",
    "import warnings\n",
    "warnings.filterwarnings(\"ignore\", category=DeprecationWarning) "
   ]
  },
  {
   "cell_type": "code",
   "execution_count": 5,
   "metadata": {},
   "outputs": [],
   "source": [
    "def fix_random(seed: int) -> None:\n",
    "    \"\"\"Fix all the possible sources of randomness.\n",
    "\n",
    "    Args:\n",
    "        seed: the seed to use.\n",
    "    \"\"\"\n",
    "    np.random.seed(seed)\n",
    "    random.seed(seed)\n",
    "    torch.manual_seed(seed)\n",
    "    torch.cuda.manual_seed(seed)\n",
    "\n",
    "    torch.backends.cudnn.benchmark = False\n",
    "    torch.backends.cudnn.deterministic = True  # slower"
   ]
  },
  {
   "cell_type": "code",
   "execution_count": 6,
   "metadata": {},
   "outputs": [
    {
     "name": "stdout",
     "output_type": "stream",
     "text": [
      "Device: cuda\n"
     ]
    }
   ],
   "source": [
    "SEED = 1038893\n",
    "\n",
    "fix_random(SEED)\n",
    "device = torch.device(\"cuda\" if torch.cuda.is_available() else \"cpu\")\n",
    "print(\"Device: {}\".format(device))\n",
    "\n",
    "root = \"../../data/ml-25m\""
   ]
  },
  {
   "attachments": {},
   "cell_type": "markdown",
   "metadata": {},
   "source": [
    "## Data Acquisition"
   ]
  },
  {
   "cell_type": "code",
   "execution_count": 7,
   "metadata": {},
   "outputs": [],
   "source": [
    "def get_data_from_csv(file: str, nrows=None):\n",
    "    if nrows:\n",
    "        df = pd.read_csv(f\"{root}/{file}\", nrows=nrows)\n",
    "    else:\n",
    "        df = pd.read_csv(f\"{root}/{file}\")\n",
    "    print(f\"Loaded ml-25m data: {root}/{file}\")\n",
    "\n",
    "    return df\n",
    "\n",
    "def get_ratings_from_csv(nrows=None):\n",
    "    path = \"ratings.csv\"\n",
    "\n",
    "    data = get_data_from_csv(path, nrows)\n",
    "    # data = get_data_from_csv(path)\n",
    "\n",
    "    data.drop(\"timestamp\", axis=1, inplace=True)\n",
    "    # todo: drop user id\n",
    "    #data.drop(\"userId\", axis=1, inplace=True)\n",
    "\n",
    "    return data\n",
    "\n",
    "def get_tag_relevances_from_csv(nrows=None):\n",
    "    path = \"genome-scores.csv\"\n",
    "\n",
    "    return get_data_from_csv(path, nrows)"
   ]
  },
  {
   "cell_type": "code",
   "execution_count": 8,
   "metadata": {},
   "outputs": [],
   "source": [
    "genome_scores_path = \"genome-scores.csv\"\n",
    "ratings_path = \"ratings.csv\""
   ]
  },
  {
   "cell_type": "code",
   "execution_count": 9,
   "metadata": {},
   "outputs": [
    {
     "name": "stdout",
     "output_type": "stream",
     "text": [
      "Loaded ml-25m data: ../../data/ml-25m/ratings.csv\n",
      "          userId  movieId  rating\n",
      "0              1      296     5.0\n",
      "1              1      306     3.5\n",
      "2              1      307     5.0\n",
      "3              1      665     5.0\n",
      "4              1      899     3.5\n",
      "...          ...      ...     ...\n",
      "25000090  162541    50872     4.5\n",
      "25000091  162541    55768     2.5\n",
      "25000092  162541    56176     2.0\n",
      "25000093  162541    58559     4.0\n",
      "25000094  162541    63876     5.0\n",
      "\n",
      "[25000095 rows x 3 columns]\n"
     ]
    }
   ],
   "source": [
    "ratings = get_ratings_from_csv()\n",
    "print(ratings)"
   ]
  },
  {
   "cell_type": "code",
   "execution_count": 10,
   "metadata": {},
   "outputs": [
    {
     "name": "stdout",
     "output_type": "stream",
     "text": [
      "Loaded ml-25m data: ../../data/ml-25m/genome-scores.csv\n",
      "          movieId  tagId  relevance\n",
      "0               1      1    0.02875\n",
      "1               1      2    0.02375\n",
      "2               1      3    0.06250\n",
      "3               1      4    0.07575\n",
      "4               1      5    0.14075\n",
      "...           ...    ...        ...\n",
      "15584443   206499   1124    0.11000\n",
      "15584444   206499   1125    0.04850\n",
      "15584445   206499   1126    0.01325\n",
      "15584446   206499   1127    0.14025\n",
      "15584447   206499   1128    0.03350\n",
      "\n",
      "[15584448 rows x 3 columns]\n"
     ]
    }
   ],
   "source": [
    "genome_scores = get_tag_relevances_from_csv()\n",
    "print(genome_scores)"
   ]
  },
  {
   "cell_type": "code",
   "execution_count": 11,
   "metadata": {},
   "outputs": [],
   "source": [
    "# films = get_data_from_csv(f\"{root}/{ratings}\")[]\n"
   ]
  },
  {
   "cell_type": "code",
   "execution_count": 14,
   "metadata": {},
   "outputs": [],
   "source": [
    "class NeuralNetwork:\n",
    "    def __init__(self, ratings, relevance, seed=1038893, batch_size=32, hidden_size1=64, hidden_size2=32, lr=0.001):\n",
    "        # Pivot the relevance DataFrame to create a matrix of tag relevance scores for each movie\n",
    "        relevance_matrix = relevance.pivot_table(index='movieId', columns='tagId', values='relevance', fill_value=0)\n",
    "\n",
    "        # Compute the mean rating for each user\n",
    "        mean_ratings = ratings.groupby('movieId', as_index=False)['rating'].mean()\n",
    "\n",
    "        # Merge the ratings and relevance data\n",
    "        X = mean_ratings.merge(relevance_matrix, on='movieId')\n",
    "        #X = addColumnOperation(ratings,X)\n",
    "        X.columns = X.columns.astype(str)\n",
    "        \n",
    "        ratings = None\n",
    "        X = X.sample(frac=1,random_state=seed).reset_index(drop=True)\n",
    "        #X = X.drop('movieId', axis=1)\n",
    "        y = X['rating']\n",
    "        X = X.drop('movieId', axis=1)\n",
    "        X = X.drop('rating', axis=1)\n",
    "        self.train_loss_history = []\n",
    "        self.val_loss_history = []\n",
    "        \n",
    "        # Split the data into training and testing sets\n",
    "        self.X_train, self.X_test, self.y_train, self.y_test = train_test_split(X, y, test_size=0.2, random_state=seed)\n",
    "        self.X_valid, self.X_test, self.y_valid, self.y_test = train_test_split(self.X_test, self.y_test, test_size=0.5, random_state=seed)\n",
    "\n",
    "        self.X_test  = self.X_test.to_numpy()\n",
    "        self.X_train = self.X_train.to_numpy()\n",
    "        self.X_valid = self.X_valid.to_numpy()\n",
    "            \n",
    "        # Convert the data to PyTorch tensors\n",
    "        self.X_train = torch.tensor(self.X_train, dtype=torch.float32)\n",
    "        self.X_test = torch.tensor(self.X_test, dtype=torch.float32)\n",
    "        self.X_valid = torch.tensor(self.X_valid, dtype=torch.float32)\n",
    "        \n",
    "        self.y_test = np.array(self.y_test)\n",
    "        self.y_train = np.array(self.y_train)\n",
    "        self.y_valid = np.array(self.y_valid)\n",
    "        \n",
    "        self.y_test = torch.tensor(self.y_test, dtype=torch.float32)\n",
    "        self.y_train = torch.tensor(self.y_train, dtype=torch.float32)\n",
    "        self.y_valid = torch.tensor(self.y_valid, dtype=torch.float32)\n",
    "        \n",
    "        # Define the neural network architecture\n",
    "        self.model = nn.Sequential(\n",
    "            nn.Linear(X.shape[1], hidden_size1),\n",
    "            nn.ReLU(),\n",
    "            nn.Linear(hidden_size1, hidden_size2),\n",
    "            nn.ReLU(),\n",
    "            nn.Linear(hidden_size2, 1)\n",
    "        )\n",
    "\n",
    "        # Move the model to the GPU\n",
    "        self.model = self.model.to(device)\n",
    "\n",
    "\n",
    "        if torch.cuda.is_available():\n",
    "            # Move the tensors to the GPU\n",
    "            self.X_train = self.X_train.to(device)\n",
    "            self.X_valid = self.X_valid.to(device)\n",
    "            self.X_test = self.X_test.to(device)\n",
    "            self.y_train = self.y_train.to(device)\n",
    "            self.y_valid = self.y_valid.to(device)\n",
    "            self.y_test = self.y_test.to(device)\n",
    "\n",
    "        # Define the loss function and optimizer\n",
    "        self.criterion = nn.MSELoss()\n",
    "        self.optimizer = optim.Adam(self.model.parameters(), lr=lr)\n",
    "\n",
    "        self.batch_size = batch_size\n",
    "\n",
    "    def train(self, num_epochs):\n",
    "        # Iterate over the entire training dataset multiple times\n",
    "        for epoch in range(num_epochs):\n",
    "            start_time = time.time()\n",
    "            # Set the model to training mode\n",
    "            self.model.train()\n",
    "\n",
    "            # Shuffle the training data\n",
    "            indices = torch.randperm(len(self.X_train))\n",
    "            shuffled_X = self.X_train[indices]\n",
    "            shuffled_y = self.y_train[indices]\n",
    "\n",
    "            # Divide the training data into batches\n",
    "            for i in range(0, len(self.X_train), self.batch_size):\n",
    "                # Zero the gradients\n",
    "                self.optimizer.zero_grad()\n",
    "\n",
    "                # Compute the forward pass\n",
    "                batch_X = shuffled_X[i:i + self.batch_size]\n",
    "                batch_y = shuffled_y[i:i + self.batch_size]\n",
    "                #batch_X = self.X_train\n",
    "                #batch_y = self.y_train\n",
    "                \n",
    "                outputs = self.model(batch_X)\n",
    "\n",
    "                # Compute the loss\n",
    "                loss = self.criterion(outputs.squeeze(), batch_y)\n",
    "\n",
    "                # Compute the backward pass and update the weights\n",
    "                loss.backward()\n",
    "                self.optimizer.step()\n",
    "                \n",
    "            self.train_loss_history.append(loss)\n",
    "\n",
    "\n",
    "            # Evaluate the model on the validation data\n",
    "            self.model.eval()\n",
    "            with torch.no_grad():\n",
    "                val_outputs = self.model(self.X_test)\n",
    "                val_loss = self.criterion(val_outputs.squeeze(), self.y_test)\n",
    "                self.val_loss_history.append(val_loss)\n",
    "\n",
    "            end_time = time.time()\n",
    "            elapsed_time = end_time - start_time\n",
    "            # Print the training and validation loss\n",
    "            #print(f'Epoch {epoch + 1}/{num_epochs} - eta: {elapsed_time:.2f}s -\\tTrain Loss: {loss.item():.4f}, Val Loss: {val_loss.item():.4f}')\n",
    "\n",
    "    def test(self):\n",
    "    # Set the model to evaluation mode\n",
    "        self.model.eval()\n",
    "\n",
    "        # Disable gradient calculation to speed up inference\n",
    "        with torch.no_grad():\n",
    "            # Compute the predictions for the test data\n",
    "            y_pred = self.model(self.X_test).squeeze()\n",
    "\n",
    "            # Compute the test loss\n",
    "            test_loss = self.criterion(y_pred, self.y_test)\n",
    "\n",
    "            # Compute the root mean squared error (RMSE) of the test predictions\n",
    "            rmse = torch.sqrt(test_loss)\n",
    "\n",
    "            # Compute the mean squared error (MSE) of the test predictions\n",
    "            mse = test_loss.item()\n",
    "\n",
    "            # Compute the mean absolute error (MAE) of the test predictions\n",
    "            mae = nn.functional.l1_loss(y_pred, self.y_test).item()\n",
    "\n",
    "            # Compute R^2 score of the test predictions\n",
    "            ss_res = torch.sum(torch.square(y_pred - self.y_test))\n",
    "            ss_tot = torch.sum(torch.square(self.y_test - torch.mean(self.y_test)))\n",
    "            r2 = 1 - ss_res / ss_tot\n",
    "\n",
    "            #Print the test metrics\n",
    "            print(f\"MSE: {mse} RMSE: {rmse} R2: {r2} MAE: {mae}\")\n",
    "\n",
    "        return  r2.item(), self.model\n",
    "    \n",
    "    def load(self,model):\n",
    "        self.model = model"
   ]
  },
  {
   "cell_type": "code",
   "execution_count": 15,
   "metadata": {},
   "outputs": [
    {
     "data": {
      "text/plain": [
       "'model = NeuralNetwork(ratings, \\n                        genome_scores,\\n                        seed=1038893, \\n                        batch_size=128, \\n                        hidden_size1=64, \\n                        hidden_size2=64, \\n                        lr=0.0005)\\n\\n\\nmodel.train(100)\\nmodel.test()'"
      ]
     },
     "execution_count": 15,
     "metadata": {},
     "output_type": "execute_result"
    }
   ],
   "source": [
    "\n",
    "'''model = NeuralNetwork(ratings, \n",
    "                        genome_scores,\n",
    "                        seed=1038893, \n",
    "                        batch_size=128, \n",
    "                        hidden_size1=64, \n",
    "                        hidden_size2=64, \n",
    "                        lr=0.0005)\n",
    "\n",
    "\n",
    "model.train(100)\n",
    "model.test()'''\n"
   ]
  },
  {
   "cell_type": "code",
   "execution_count": 16,
   "metadata": {},
   "outputs": [
    {
     "name": "stdout",
     "output_type": "stream",
     "text": [
      "[1/1] START => batchsize: 1024, hidden_size1: 256, hidden_size2: 256, lr: 0.01, num_epochs: 400\n",
      "MSE: 0.006640116684138775 RMSE: 0.08148691058158875 R2: 0.9723891019821167 MAE: 0.0629449188709259\n",
      "DONE: 0.9723891019821167 => batchsize: 1024, hidden_size1: 256, hidden_size2: 256, lr: 0.01, num_epochs: 400\n",
      "New best model: 1024_256_256_0.01_400\n",
      "============================================================\n"
     ]
    }
   ],
   "source": [
    "import itertools\n",
    "\n",
    "batchsize = [1024]\t\n",
    "hidden_size1 = [256]\n",
    "hidden_size2 = [256]\n",
    "lr = [0.01]\n",
    "num_epochs = [400]\n",
    "\n",
    "\n",
    "best_model_params = None \n",
    "best_r2 = 0\n",
    "\n",
    "total_iterations = len(batchsize) * len(hidden_size1) * len(hidden_size2) * len(lr) * len(num_epochs)\n",
    "current_iteration = 0\n",
    "\n",
    "\n",
    "for batchsize,hidden_size1,hidden_size2,lr,num_epochs in itertools.product(batchsize,hidden_size1,hidden_size2,lr,num_epochs):\n",
    "    current_iteration += 1\n",
    "    print(f'[{current_iteration}/{total_iterations}] START => batchsize: {batchsize}, hidden_size1: {hidden_size1}, hidden_size2: {hidden_size2}, lr: {lr}, num_epochs: {num_epochs}')\n",
    "    model = NeuralNetwork(ratings, \n",
    "                        genome_scores,\n",
    "                        seed=1038893, \n",
    "                        batch_size=batchsize, \n",
    "                        hidden_size1=hidden_size1, \n",
    "                        hidden_size2=hidden_size2, \n",
    "                        lr=lr)\n",
    "    \n",
    "    \n",
    "    model.train(num_epochs)\n",
    "    r2, model_instance  = model.test()\n",
    "    print(f'DONE: {r2} => batchsize: {batchsize}, hidden_size1: {hidden_size1}, hidden_size2: {hidden_size2}, lr: {lr}, num_epochs: {num_epochs}')\n",
    "    \n",
    "    #Se lo voglio caricare uso torch.load('modello.pt')\n",
    "    if r2 > best_r2:\n",
    "        best_r2 = r2\n",
    "        best_model_params = f'{batchsize}_{hidden_size1}_{hidden_size2}_{lr}_{num_epochs}'\n",
    "        #torch.save(model_instance, f'model\\model_{batchsize}_{hidden_size1}_{hidden_size2}_{lr}_{num_epochs}.pt')\n",
    "        print(f'New best model: {best_model_params}')\n",
    "    \n",
    "print('============================================================')\n",
    "#model = NeuralNetwork(ratings,genome_scores)\n",
    "#print(f'Best model SCORE: {best_r2}')\n",
    "#model.load(torch.load(f'model/model_{best_model_params}.pt'));\n",
    "#print(model.test())"
   ]
  },
  {
   "cell_type": "code",
   "execution_count": 17,
   "metadata": {},
   "outputs": [],
   "source": [
    "cuda_train_loss_history = model.train_loss_history\n",
    "cuda_val_loss_history = model.val_loss_history"
   ]
  },
  {
   "cell_type": "code",
   "execution_count": 18,
   "metadata": {},
   "outputs": [],
   "source": [
    "train_loss_history = []\n",
    "for item in cuda_train_loss_history:\n",
    "    blbl = item.cpu()\n",
    "    train_loss_history.append(item.cpu().detach().numpy())\n",
    "\n",
    "val_loss_history = []\n",
    "for item in cuda_val_loss_history:\n",
    "    val_loss_history.append(item.cpu().detach().numpy())\n"
   ]
  },
  {
   "cell_type": "code",
   "execution_count": 25,
   "metadata": {},
   "outputs": [
    {
     "data": {
      "image/png": "[encoded data removed]",
      "text/plain": [
       "<Figure size 1000x500 with 1 Axes>"
      ]
     },
     "metadata": {},
     "output_type": "display_data"
    }
   ],
   "source": [
    "sns.set_style('darkgrid')\n",
    "plt.figure(figsize=(10,5))\n",
    "plt.plot(train_loss_history, label='train')\n",
    "plt.plot(val_loss_history, label='validation')\n",
    "plt.ylim(0,.6)\n",
    "plt.xlim(-1,40)\n",
    "\n",
    "plt.title('Loss')\n",
    "plt.ylabel('Loss')\n",
    "plt.xlabel('Epoch')\n",
    "plt.legend(loc='upper right')\n",
    "plt.show()"
   ]
  }
 ],
 "metadata": {
  "kernelspec": {
   "display_name": "Python 3",
   "language": "python",
   "name": "python3"
  },
  "language_info": {
   "codemirror_mode": {
    "name": "ipython",
    "version": 3
   },
   "file_extension": ".py",
   "mimetype": "text/x-python",
   "name": "python",
   "nbconvert_exporter": "python",
   "pygments_lexer": "ipython3",
   "version": "3.10.9"
  },
  "orig_nbformat": 4,
  "vscode": {
   "interpreter": {
    "hash": "f8bec9e9efeda165029d081619199fa95bb45532afd075062965979786e87119"
   }
  }
 },
 "nbformat": 4,
 "nbformat_minor": 2
}
