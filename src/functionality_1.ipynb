{
 "cells": [
  {
   "cell_type": "code",
   "execution_count": 281,
   "metadata": {},
   "outputs": [],
   "source": [
    "import random\n",
    "import torch\n",
    "import pandas as pd\n",
    "import numpy as np\n",
    "from scipy.sparse import csr_matrix\n",
    "\n",
    "from sklearn.naive_bayes import GaussianNB\n",
    "from sklearn.metrics import mean_squared_error, accuracy_score\n",
    "\n",
    "import warnings\n",
    "warnings.filterwarnings(\"ignore\", category=DeprecationWarning) "
   ]
  },
  {
   "cell_type": "code",
   "execution_count": 63,
   "metadata": {},
   "outputs": [],
   "source": [
    "def fix_random(seed: int) -> None:\n",
    "    \"\"\"Fix all the possible sources of randomness.\n",
    "\n",
    "    Args:\n",
    "        seed: the seed to use.\n",
    "    \"\"\"\n",
    "    np.random.seed(seed)\n",
    "    random.seed(seed)\n",
    "    torch.manual_seed(seed)\n",
    "    torch.cuda.manual_seed(seed)\n",
    "\n",
    "    torch.backends.cudnn.benchmark = False\n",
    "    torch.backends.cudnn.deterministic = True  # slower"
   ]
  },
  {
   "cell_type": "code",
   "execution_count": 64,
   "metadata": {},
   "outputs": [
    {
     "name": "stdout",
     "output_type": "stream",
     "text": [
      "Device: cpu\n"
     ]
    }
   ],
   "source": [
    "SEED = 1038893\n",
    "\n",
    "fix_random(SEED)\n",
    "device = torch.device(\"cuda\" if torch.cuda.is_available() else \"cpu\")\n",
    "print(\"Device: {}\".format(device))\n",
    "\n",
    "root = \"../data/ml-25m\""
   ]
  },
  {
   "attachments": {},
   "cell_type": "markdown",
   "metadata": {},
   "source": [
    "## Data Acquisition"
   ]
  },
  {
   "cell_type": "code",
   "execution_count": 65,
   "metadata": {},
   "outputs": [],
   "source": [
    "def get_data_from_csv(file: str, nrows=None):\n",
    "    if nrows:\n",
    "        df = pd.read_csv(f\"{root}/{file}\", nrows=nrows)\n",
    "    else:\n",
    "        df = pd.read_csv(f\"{root}/{file}\")\n",
    "    print(f\"Loaded ml-25m data: {root}/{file}\")\n",
    "\n",
    "    return df\n",
    "\n",
    "def get_ratings_from_csv(nrows=None):\n",
    "    path = \"ratings.csv\"\n",
    "\n",
    "    data = get_data_from_csv(path, nrows)\n",
    "    # data = get_data_from_csv(path)\n",
    "\n",
    "    data.drop(\"timestamp\", axis=1, inplace=True)\n",
    "    # todo: drop user id\n",
    "    #data.drop(\"userId\", axis=1, inplace=True)\n",
    "\n",
    "    return data\n",
    "\n",
    "def get_tag_relevances_from_csv(nrows=None):\n",
    "    path = \"genome-scores.csv\"\n",
    "\n",
    "    return get_data_from_csv(path, nrows)"
   ]
  },
  {
   "cell_type": "code",
   "execution_count": 66,
   "metadata": {},
   "outputs": [],
   "source": [
    "genome_scores_path = \"genome-scores.csv\"\n",
    "ratings_path = \"ratings.csv\""
   ]
  },
  {
   "cell_type": "code",
   "execution_count": 67,
   "metadata": {},
   "outputs": [
    {
     "name": "stdout",
     "output_type": "stream",
     "text": [
      "Loaded ml-25m data: ../data/ml-25m/ratings.csv\n",
      "          userId  movieId  rating\n",
      "0              1      296     5.0\n",
      "1              1      306     3.5\n",
      "2              1      307     5.0\n",
      "3              1      665     5.0\n",
      "4              1      899     3.5\n",
      "...          ...      ...     ...\n",
      "25000090  162541    50872     4.5\n",
      "25000091  162541    55768     2.5\n",
      "25000092  162541    56176     2.0\n",
      "25000093  162541    58559     4.0\n",
      "25000094  162541    63876     5.0\n",
      "\n",
      "[25000095 rows x 3 columns]\n"
     ]
    }
   ],
   "source": [
    "ratings = get_ratings_from_csv()\n",
    "print(ratings)"
   ]
  },
  {
   "cell_type": "code",
   "execution_count": 68,
   "metadata": {},
   "outputs": [
    {
     "name": "stdout",
     "output_type": "stream",
     "text": [
      "Loaded ml-25m data: ../data/ml-25m/genome-scores.csv\n",
      "          movieId  tagId  relevance\n",
      "0               1      1    0.02875\n",
      "1               1      2    0.02375\n",
      "2               1      3    0.06250\n",
      "3               1      4    0.07575\n",
      "4               1      5    0.14075\n",
      "...           ...    ...        ...\n",
      "15584443   206499   1124    0.11000\n",
      "15584444   206499   1125    0.04850\n",
      "15584445   206499   1126    0.01325\n",
      "15584446   206499   1127    0.14025\n",
      "15584447   206499   1128    0.03350\n",
      "\n",
      "[15584448 rows x 3 columns]\n"
     ]
    }
   ],
   "source": [
    "genome_scores = get_tag_relevances_from_csv()\n",
    "print(genome_scores)"
   ]
  },
  {
   "cell_type": "code",
   "execution_count": 69,
   "metadata": {},
   "outputs": [],
   "source": [
    "# films = get_data_from_csv(f\"{root}/{ratings}\")[]\n"
   ]
  },
  {
   "attachments": {},
   "cell_type": "markdown",
   "metadata": {},
   "source": [
    "# DATA VISUALIZATION\n"
   ]
  },
  {
   "cell_type": "code",
   "execution_count": null,
   "metadata": {},
   "outputs": [],
   "source": [
    "            # # Fill in missing values with zeros\n",
    "            # X.fillna(0, inplace=True)\n"
   ]
  },
  {
   "cell_type": "markdown",
   "metadata": {},
   "source": [
    "# FARE TEST CON AVG, STD_DEV"
   ]
  },
  {
   "cell_type": "code",
   "execution_count": null,
   "metadata": {},
   "outputs": [],
   "source": []
  },
  {
   "cell_type": "code",
   "execution_count": 282,
   "metadata": {},
   "outputs": [],
   "source": [
    "class Bayes:\n",
    "    def __init__(self, ratings, relevance, seed=42):\n",
    "            #! df['rating'] = df['rating'].astype('float16')\n",
    "\n",
    "            # Reduce genome-score size\n",
    "\n",
    "            # Pivot the relevance DataFrame to create a matrix of tag relevance scores for each movie\n",
    "            relevance_matrix = relevance.pivot_table(index='movieId', columns='tagId', values='relevance', fill_value=0)\n",
    "\n",
    "            # Compute the mean rating for each user\n",
    "            mean_ratings = ratings.groupby('movieId', as_index=False)['rating'].mean()\n",
    "            ratings = None\n",
    "\n",
    "            \n",
    "            # Merge the ratings and relevance data\n",
    "            X = mean_ratings.merge(relevance_matrix, on='movieId')\n",
    "            X.columns = X.columns.astype(str)\n",
    "            \n",
    "            y = np.round(X['rating'], decimals=0)\n",
    "            #y = X['rating']\n",
    "            X = X.drop('rating', axis=1)\n",
    "\n",
    "            print(y.head())\n",
    "\n",
    "           # Convert X to a PyTorch tensor\n",
    "            #self.X = X.to_numpy()\n",
    "            #self.X = torch.tensor(X.values, dtype=torch.float16)\n",
    "\n",
    "            # Create the target variable (y) as a PyTorch tensor\n",
    "            #self.y = y.to_numpy()\n",
    "            #self.y = torch.tensor(y.values, dtype=torch.float16)\n",
    "\n",
    "            # Split the data into training and testing sets\n",
    "            from sklearn.model_selection import train_test_split\n",
    "            self.X_train, self.X_test, self.y_train, self.y_test = train_test_split(X, y, test_size=0.2, random_state=seed)\n",
    "            print(self.X_train.shape, self.X_test.shape, self.y_train.shape, self.y_test.shape)\n",
    "            # Initialize the Gaussian Naive Bayes model\n",
    "            self.nb = GaussianNB()\n",
    "\n",
    "\n",
    "    # Training\n",
    "    def train(self):\n",
    "        nb = GaussianNB()\n",
    "        nb.fit(self.X_train, self.y_train) \n",
    "        self.nb = nb\n",
    "\n",
    "    def test(self):\n",
    "        # Predict ratings for the test data\n",
    "        y_pred = self.nb.predict(self.X_test)\n",
    "\n",
    "        # Compute the mean squared error\n",
    "        mse = mean_squared_error(self.y_test, y_pred)\n",
    "        accuracy = accuracy_score(self.y_test, y_pred)\n",
    "\n",
    "        print(f\"Mean squared error: {mse}\")\n",
    "        print(f\"Accuracy: {accuracy}\")\n",
    "        \n"
   ]
  },
  {
   "cell_type": "code",
   "execution_count": 283,
   "metadata": {},
   "outputs": [],
   "source": [
    "\n",
    "# class Bayes:\n",
    "#     def __init__(self, ratings, relevance, seed = 1038893) -> None:\n",
    "#         self.ratings = ratings\n",
    "#         #self.ratings = self.ratings.drop(['timestamp'], axis=1, inplace=True)\n",
    "#         #self.ratings.drop(['userId'], axis=1, inplace=True)\n",
    "#         mean_ratings = self.ratings.groupby('movieId', as_index=False)['rating'].mean()\n",
    "\n",
    "#         #print(movie_genome_scores.head())\n",
    "\n",
    "#         tmp_rels = relevance.groupby('movieId', as_index = False)\n",
    "#         #print(relevancessss.head())\n",
    "        \n",
    "#         movies = []\n",
    "\n",
    "        \n",
    "#         #! le colonne sono nominate con int (tranne movieID)\n",
    "#         scores = pd.DataFrame(index=np.arange(1), columns=np.arange(1129))\n",
    "#         scores.rename(columns={0: 'movieId'}, inplace=True)\n",
    "#         #scores = pd.DataFrame(columns=['movieId', tags])\n",
    "\n",
    "#         # tmp_arr = []\n",
    "#         # for mid, movie in enumerate(tmp_rels):\n",
    "#         #     rels = []\n",
    "#         #     # print(movie)\n",
    "#         #     scores = movie[1]['relevance']\n",
    "\n",
    "#         #     for x in range(1128):\n",
    "#         #         # rels.append(movie[1]['relevance'][x])\n",
    "#         #         print(movie[1]['relevance'][x])\n",
    "#         #         # tmp_arr = [scores]\n",
    "\n",
    "            \n",
    "#             # print(f'\\n\\n{scores}')\n",
    "#             # for item in movie:\n",
    "#             #     pass\n",
    "#                 # tmp_tag = item['tagId']\n",
    "#                 # tmp_rel = item['relevance']\n",
    "#                 # print(f'dd {tmp_tag} - {tmp_rel}')\n",
    "\n",
    "#         # print(tmp_arr)\n",
    "\n",
    "\n",
    "\n",
    "#         # d_tmp = {'movieId': movie[0], 'scores': rels}\n",
    "#         # scores = scores.append(d_tmp, ignore_index = True)\n",
    "\n",
    "#         # for mId, movie in enumerate(tmp_rels):\n",
    "#         #     rels = []\n",
    "#         #     for relevance in movie[1]['relevance']:\n",
    "#         #         rels.append(relevance)\n",
    "\n",
    "#         #     d_tmp = {'movieId': movie[0], 'scores': rels}\n",
    "#         #     scores = scores.append(d_tmp, ignore_index = True)\n",
    "\n",
    "#         # self.movie_genome_scores = pd.merge(mean_ratings, scores, on='movieId')\n",
    "#         # self.movie_genome_scores.drop(['movieId'], axis=1, inplace=True)        \n",
    "\n",
    "        \n",
    "\n",
    "#         # self.x = self.movie_genome_scores['scores']\n",
    "#         # self.y = mean_ratings['rating']\n",
    "#         # print(self.x.head())\n",
    "#         # print(self.y.head())\n",
    "\n",
    "#         # self.X_sparse = csr_matrix(self.x)\n",
    "\n",
    "#         # from sklearn.model_selection import train_test_split\n",
    "#         # X_train, X_test, y_train, y_test = train_test_split(self.X_sparse, self.y, test_size=0.2, random_state=seed)\n",
    "\n",
    "        \n",
    "#         # self.nb = GaussianNB\n",
    "\n",
    "#     #*  Training\n",
    "#     def train(self):\n",
    "#         self.nb.fit(self.X_train.toarray(), self.y_train)\n",
    "\n",
    "#     #*  Testing\n",
    "#     def testing(self):\n",
    "#         y_pred = self.nb.predict(self.X_test.toarray())\n",
    "\n",
    "#         #*  Calculating Mean Squared Error\n",
    "#         mse = mean_squared_error(self.y_test, y_pred)\n",
    "\n",
    "#         print(f'Mean Squared Error: {mse}')\n",
    "\n"
   ]
  },
  {
   "cell_type": "code",
   "execution_count": 284,
   "metadata": {},
   "outputs": [
    {
     "name": "stdout",
     "output_type": "stream",
     "text": [
      "0    4.0\n",
      "1    3.0\n",
      "2    3.0\n",
      "3    3.0\n",
      "4    3.0\n",
      "Name: rating, dtype: float64\n",
      "(11052, 1129) (2764, 1129) (11052,) (2764,)\n"
     ]
    }
   ],
   "source": [
    "bs = Bayes(ratings, genome_scores, SEED)"
   ]
  },
  {
   "cell_type": "code",
   "execution_count": 285,
   "metadata": {},
   "outputs": [],
   "source": [
    "bs.train()"
   ]
  },
  {
   "cell_type": "code",
   "execution_count": 286,
   "metadata": {},
   "outputs": [
    {
     "name": "stdout",
     "output_type": "stream",
     "text": [
      "Mean squared error: 0.32778581765557163\n",
      "Accuracy: 0.6732995658465991\n"
     ]
    }
   ],
   "source": [
    "bs.test()"
   ]
  }
 ],
 "metadata": {
  "kernelspec": {
   "display_name": "Python 3",
   "language": "python",
   "name": "python3"
  },
  "language_info": {
   "codemirror_mode": {
    "name": "ipython",
    "version": 3
   },
   "file_extension": ".py",
   "mimetype": "text/x-python",
   "name": "python",
   "nbconvert_exporter": "python",
   "pygments_lexer": "ipython3",
   "version": "3.10.0"
  },
  "orig_nbformat": 4,
  "vscode": {
   "interpreter": {
    "hash": "87bd6c09cddab90a09f19a55e9245e3497687050bc7d26cfabaa798d009918f1"
   }
  }
 },
 "nbformat": 4,
 "nbformat_minor": 2
}
